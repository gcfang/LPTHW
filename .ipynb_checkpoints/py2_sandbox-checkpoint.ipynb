{
 "cells": [
  {
   "cell_type": "code",
   "execution_count": null,
   "metadata": {
    "collapsed": false
   },
   "outputs": [],
   "source": [
    "ten_things = \"Apples Oranges Crows Telephone Light Sugar\"\n",
    "\n",
    "print \"Wait there are not 10 things in that list. Let's fix that.\"\n",
    "\n",
    "stuff = ten_things.split(' ')\n",
    "more_stuff = [\"Day\", \"Night\", \"Song\", \"Frisbee\", \"Corn\", \"Banana\", \"Girl\", \"Boy\"]\n",
    "\n",
    "while len(stuff) != 10:\n",
    "    next_one = more_stuff.pop()\n",
    "    print \"Adding: \", next_one\n",
    "    stuff.append(next_one)\n",
    "    print \"There are %d items now.\" % len(stuff)"
   ]
  },
  {
   "cell_type": "code",
   "execution_count": null,
   "metadata": {
    "collapsed": false
   },
   "outputs": [],
   "source": [
    "print \"There we go: \", stuff"
   ]
  },
  {
   "cell_type": "code",
   "execution_count": null,
   "metadata": {
    "collapsed": false
   },
   "outputs": [],
   "source": [
    "print '#'.join(stuff)"
   ]
  },
  {
   "cell_type": "code",
   "execution_count": null,
   "metadata": {
    "collapsed": false
   },
   "outputs": [],
   "source": [
    "print stuff[5:3]"
   ]
  },
  {
   "cell_type": "markdown",
   "metadata": {},
   "source": [
    "## -----Class Sandbox----"
   ]
  },
  {
   "cell_type": "code",
   "execution_count": null,
   "metadata": {
    "collapsed": true
   },
   "outputs": [],
   "source": [
    "# a class can call an external function \n",
    "def f1(self, x, y):\n",
    "    return min(x, x+y)\n",
    "\n",
    "class C:\n",
    "    def __init__(self,num):\n",
    "        self.num = num\n",
    "    f = f1\n",
    "    \n",
    "    def g(self):\n",
    "        return 'hello world'\n",
    "\n",
    "    h = g"
   ]
  },
  {
   "cell_type": "code",
   "execution_count": null,
   "metadata": {
    "collapsed": false
   },
   "outputs": [],
   "source": [
    "d = C(1)\n",
    "print d.num\n",
    "print d.g()\n",
    "print d.g\n",
    "print d.f(1,-1)"
   ]
  },
  {
   "cell_type": "markdown",
   "metadata": {},
   "source": [
    "## ----End of Class Sandbox----"
   ]
  },
  {
   "cell_type": "markdown",
   "metadata": {},
   "source": [
    "## ----Ex 37----"
   ]
  },
  {
   "cell_type": "code",
   "execution_count": null,
   "metadata": {
    "collapsed": true
   },
   "outputs": [],
   "source": [
    "states = {\n",
    "    'Oregon': 'OR',\n",
    "    'Florida': 'FL',\n",
    "    'California': 'CA',\n",
    "    'New York': 'NY',\n",
    "    'Michigan': 'MI'\n",
    "}\n",
    "\n",
    "# create a basic set of states and some cities in them\n",
    "cities = {\n",
    "    'CA': 'San Francisco',\n",
    "    'MI': 'Detroit',\n",
    "    'FL': 'Jacksonville'\n",
    "}\n",
    "\n",
    "# add some more cities\n",
    "cities['NY'] = 'New York'\n",
    "cities['OR'] = 'Portland'"
   ]
  },
  {
   "cell_type": "code",
   "execution_count": null,
   "metadata": {
    "collapsed": false
   },
   "outputs": [],
   "source": [
    "print '-'*10,'hello','-'*10\n",
    "print \"NY State has: \", cities['NY']\n",
    "print 'OR State has: ', cities['OR']"
   ]
  },
  {
   "cell_type": "code",
   "execution_count": null,
   "metadata": {
    "collapsed": false
   },
   "outputs": [],
   "source": [
    "for state, abbrev in cities.items():\n",
    "    print \"%s is abbreviated %s\" % (state, abbrev)"
   ]
  },
  {
   "cell_type": "code",
   "execution_count": null,
   "metadata": {
    "collapsed": false
   },
   "outputs": [],
   "source": [
    "cities.items() #list of D's as 2-tuples"
   ]
  },
  {
   "cell_type": "code",
   "execution_count": null,
   "metadata": {
    "collapsed": false
   },
   "outputs": [],
   "source": [
    "cities.items()[0][1]"
   ]
  },
  {
   "cell_type": "code",
   "execution_count": null,
   "metadata": {
    "collapsed": false
   },
   "outputs": [],
   "source": [
    "states.items()"
   ]
  },
  {
   "cell_type": "code",
   "execution_count": null,
   "metadata": {
    "collapsed": false
   },
   "outputs": [],
   "source": [
    "print '-' * 10\n",
    "for state, abbrev in states.items():\n",
    "    print \"%s state is abbreviated %s and has city %s\" % (\n",
    "        state, abbrev, cities[abbrev])"
   ]
  },
  {
   "cell_type": "code",
   "execution_count": null,
   "metadata": {
    "collapsed": false
   },
   "outputs": [],
   "source": [
    "print states.get('California') #use keys to return value"
   ]
  },
  {
   "cell_type": "markdown",
   "metadata": {},
   "source": [
    "## ----Exercise 40----"
   ]
  },
  {
   "cell_type": "code",
   "execution_count": 1,
   "metadata": {
    "collapsed": false
   },
   "outputs": [],
   "source": [
    "import Ex40_IntroToModule\n",
    "from Ex40_IntroToModule import MyModule as mm"
   ]
  },
  {
   "cell_type": "code",
   "execution_count": 3,
   "metadata": {
    "collapsed": false
   },
   "outputs": [
    {
     "name": "stdout",
     "output_type": "stream",
     "text": [
      "I am an apple!\n"
     ]
    }
   ],
   "source": [
    "mm.apple(object)"
   ]
  },
  {
   "cell_type": "code",
   "execution_count": 5,
   "metadata": {
    "collapsed": false
   },
   "outputs": [
    {
     "data": {
      "text/plain": [
       "'I am an orange!'"
      ]
     },
     "execution_count": 5,
     "metadata": {},
     "output_type": "execute_result"
    }
   ],
   "source": [
    "mm.orange"
   ]
  },
  {
   "cell_type": "code",
   "execution_count": 6,
   "metadata": {
    "collapsed": false
   },
   "outputs": [
    {
     "name": "stdout",
     "output_type": "stream",
     "text": [
      "Happy birthday to you\n",
      "I don't want to get sued\n",
      "So I'll stop right there\n"
     ]
    }
   ],
   "source": [
    "#Call an instance built in the module\n",
    "mm.happy_bday.sing_me_a_song()"
   ]
  },
  {
   "cell_type": "code",
   "execution_count": 5,
   "metadata": {
    "collapsed": false
   },
   "outputs": [
    {
     "name": "stdout",
     "output_type": "stream",
     "text": [
      "They rally around tha family\n",
      "With pockets full of shells\n"
     ]
    }
   ],
   "source": [
    "mm.bulls_on_parade.sing_me_a_song()"
   ]
  },
  {
   "cell_type": "code",
   "execution_count": null,
   "metadata": {
    "collapsed": true
   },
   "outputs": [],
   "source": [
    "# build an instance in notebook\n",
    "happy_bday_local = mm.Song(['blah blah blah',\n",
    "                           'blah blah blah'])"
   ]
  },
  {
   "cell_type": "code",
   "execution_count": null,
   "metadata": {
    "collapsed": false
   },
   "outputs": [],
   "source": [
    "happy_bday_local.sing_me_a_song()"
   ]
  },
  {
   "cell_type": "markdown",
   "metadata": {},
   "source": [
    "## ----Exercise 41----"
   ]
  },
  {
   "cell_type": "code",
   "execution_count": null,
   "metadata": {
    "collapsed": false
   },
   "outputs": [],
   "source": [
    "import pdb"
   ]
  },
  {
   "cell_type": "code",
   "execution_count": null,
   "metadata": {
    "collapsed": false,
    "scrolled": false
   },
   "outputs": [
    {
     "name": "stdout",
     "output_type": "stream",
     "text": [
      "creator.actor(bite, driving)\n",
      "> \n",
      "ANSWER: From creator get the actor function, and call it with parameters self, bite, driving.\n",
      "\n",
      "\n",
      "class Condition(object):\n",
      "\tdef curtain(self, amusement, bite, can)\n"
     ]
    }
   ],
   "source": [
    "%run EX41_OOP/oop_test.py"
   ]
  },
  {
   "cell_type": "code",
   "execution_count": null,
   "metadata": {
    "collapsed": false
   },
   "outputs": [],
   "source": [
    "pdb.pm()"
   ]
  },
  {
   "cell_type": "markdown",
   "metadata": {
    "collapsed": true
   },
   "source": [
    "## ---Exercies 43----- "
   ]
  },
  {
   "cell_type": "code",
   "execution_count": 22,
   "metadata": {
    "collapsed": false
   },
   "outputs": [
    {
     "name": "stdout",
     "output_type": "stream",
     "text": [
      "Automatic pdb calling has been turned OFF\n"
     ]
    }
   ],
   "source": [
    "%pdb"
   ]
  },
  {
   "cell_type": "code",
   "execution_count": 31,
   "metadata": {
    "collapsed": false,
    "scrolled": true
   },
   "outputs": [
    {
     "name": "stdout",
     "output_type": "stream",
     "text": [
      "The Gothons of Planet Percal #25 have invaded your ship and destroyed\n",
      "your entire crew.  You are the last surviving member and your last\n",
      "mission is to get the neutron destruct bomb from the Weapons Armory,\n",
      "put it in the bridge, and blow the ship up after getting into an \n",
      "escape pod.\n",
      "\n",
      "\n",
      "You're running down the central corridor to the Weapons Armory when\n",
      "a Gothon jumps out, red scaly skin, dark grimy teeth, and evil clown costume\n",
      "flowing around his hate filled body.  He's blocking the door to the\n",
      "Armory and about to pull a weapon to blast you.\n",
      "What would you do?\n",
      "\n",
      "shoot!\n",
      "dodge!\n",
      "tell a joke\n",
      "> shoot!\n",
      "\n",
      "Quick on the draw you yank out your blaster and fire it at the Gothon.\n",
      "His clown costume is flowing and moving around his body, which throws\n",
      "off your aim.  Your laser hits his costume but misses him entirely.  This\n",
      "completely ruins his brand new costume his mother bought him, which\n",
      "makes him fly into an insane rage and blast you repeatedly in the face until\n",
      "you are dead.  Then he eats you.\n",
      "I have a small puppy that's better at this\n",
      "Start a new game? (y/n)\n",
      ">y\n",
      "The Gothons of Planet Percal #25 have invaded your ship and destroyed\n",
      "your entire crew.  You are the last surviving member and your last\n",
      "mission is to get the neutron destruct bomb from the Weapons Armory,\n",
      "put it in the bridge, and blow the ship up after getting into an \n",
      "escape pod.\n",
      "\n",
      "\n",
      "You're running down the central corridor to the Weapons Armory when\n",
      "a Gothon jumps out, red scaly skin, dark grimy teeth, and evil clown costume\n",
      "flowing around his hate filled body.  He's blocking the door to the\n",
      "Armory and about to pull a weapon to blast you.\n",
      "What would you do?\n",
      "\n",
      "shoot!\n",
      "dodge!\n",
      "tell a joke\n",
      "> dodge\n",
      "DOES NOT COMPUTE!\n",
      "The Gothons of Planet Percal #25 have invaded your ship and destroyed\n",
      "your entire crew.  You are the last surviving member and your last\n",
      "mission is to get the neutron destruct bomb from the Weapons Armory,\n",
      "put it in the bridge, and blow the ship up after getting into an \n",
      "escape pod.\n",
      "\n",
      "\n",
      "You're running down the central corridor to the Weapons Armory when\n",
      "a Gothon jumps out, red scaly skin, dark grimy teeth, and evil clown costume\n",
      "flowing around his hate filled body.  He's blocking the door to the\n",
      "Armory and about to pull a weapon to blast you.\n",
      "What would you do?\n",
      "\n",
      "shoot!\n",
      "dodge!\n",
      "tell a joke\n",
      "> dodge!\n",
      "\n",
      "Like a world class boxer you dodge, weave, slip and slide right\n",
      "as the Gothon's blaster cranks a laser past your head.\n",
      "In the middle of your artful dodge your foot slips and you\n",
      "bang your head on the metal wall and pass out.\n",
      "You wake up shortly after only to die as the Gothon stomps on\n",
      "your head and eats you.\n",
      "Such a luser\n",
      "Start a new game? (y/n)\n",
      ">y\n",
      "The Gothons of Planet Percal #25 have invaded your ship and destroyed\n",
      "your entire crew.  You are the last surviving member and your last\n",
      "mission is to get the neutron destruct bomb from the Weapons Armory,\n",
      "put it in the bridge, and blow the ship up after getting into an \n",
      "escape pod.\n",
      "\n",
      "\n",
      "You're running down the central corridor to the Weapons Armory when\n",
      "a Gothon jumps out, red scaly skin, dark grimy teeth, and evil clown costume\n",
      "flowing around his hate filled body.  He's blocking the door to the\n",
      "Armory and about to pull a weapon to blast you.\n",
      "What would you do?\n",
      "\n",
      "shoot!\n",
      "dodge!\n",
      "tell a joke\n",
      "> tell a joke\n",
      "\n",
      "Lucky for you they made you learn Gothon insults in the academy.\n",
      "You tell the one Gothon joke you know:\n",
      "Lbhe zbgure vf fb sng, jura fur fvgf nebhaq gur ubhfr, fur fvgf nebhaq gur ubhfr.\n",
      "The Gothon stops, tries not to laugh, then busts out laughing and can't move.\n",
      "While he's laughing you run up and shoot him square in the head\n",
      "putting him down, then jump through the Weapon Armory door.\n",
      "You do a dive roll into the Weapon Armory, crouch and scan the room\n",
      "for more Gothons that might be hiding.  It's dead quiet, too quiet.\n",
      "You stand up and run to the far side of the room and find the\n",
      "neutron bomb in its container.  There's a keypad lock on the box\n",
      "and you need the code to get the bomb out.  If you get the code\n",
      "wrong 10 times then the lock closes forever and you can't\n",
      "get the bomb.  The code is 3 digits.\n"
     ]
    },
    {
     "ename": "KeyboardInterrupt",
     "evalue": "",
     "output_type": "error",
     "traceback": [
      "\u001b[0;31m---------------------------------------------------------------------------\u001b[0m",
      "\u001b[0;31mKeyboardInterrupt\u001b[0m                         Traceback (most recent call last)",
      "\u001b[0;32m/Users/gcfang/Documents/GitHub/LPTHW/EX43_OOP_Spaceship_Ex/ex43.py\u001b[0m in \u001b[0;36m<module>\u001b[0;34m()\u001b[0m\n",
      "\u001b[0;32m/Users/gcfang/Documents/GitHub/LPTHW/EX43_OOP_Spaceship_Ex/ex43.py\u001b[0m in \u001b[0;36mplay\u001b[0;34m(self)\u001b[0m\n\u001b[1;32m     19\u001b[0m \u001b[0;34m\u001b[0m\u001b[0m\n\u001b[1;32m     20\u001b[0m         \u001b[0;32mwhile\u001b[0m \u001b[0mcurrent_scene\u001b[0m\u001b[0;34m!=\u001b[0m\u001b[0mlast_scene\u001b[0m\u001b[0;34m:\u001b[0m\u001b[0;34m\u001b[0m\u001b[0m\n\u001b[0;32m---> 21\u001b[0;31m             \u001b[0mnext_scene_name\u001b[0m \u001b[0;34m=\u001b[0m \u001b[0mcurrent_scene\u001b[0m\u001b[0;34m.\u001b[0m\u001b[0menter\u001b[0m\u001b[0;34m(\u001b[0m\u001b[0;34m)\u001b[0m\u001b[0;34m\u001b[0m\u001b[0m\n\u001b[0m\u001b[1;32m     22\u001b[0m             \u001b[0mcurrent_scene\u001b[0m \u001b[0;34m=\u001b[0m \u001b[0mself\u001b[0m\u001b[0;34m.\u001b[0m\u001b[0mscene_map\u001b[0m\u001b[0;34m.\u001b[0m\u001b[0mnext_scene\u001b[0m\u001b[0;34m(\u001b[0m\u001b[0mnext_scene_name\u001b[0m\u001b[0;34m)\u001b[0m\u001b[0;34m\u001b[0m\u001b[0m\n\u001b[1;32m     23\u001b[0m         \u001b[0;31m# print out the last scene\u001b[0m\u001b[0;34m\u001b[0m\u001b[0;34m\u001b[0m\u001b[0m\n",
      "\u001b[0;32m/Users/gcfang/Documents/GitHub/LPTHW/EX43_OOP_Spaceship_Ex/ex43.py\u001b[0m in \u001b[0;36menter\u001b[0;34m(self)\u001b[0m\n\u001b[1;32m    103\u001b[0m         \u001b[0;32mif\u001b[0m \u001b[0mguess\u001b[0m \u001b[0;34m==\u001b[0m \u001b[0mcode\u001b[0m\u001b[0;34m:\u001b[0m\u001b[0;34m\u001b[0m\u001b[0m\n\u001b[1;32m    104\u001b[0m             \u001b[0;32mprint\u001b[0m \u001b[0;34m\"The container clicks open and the seal breaks, letting gas out.\"\u001b[0m\u001b[0;34m\u001b[0m\u001b[0m\n\u001b[0;32m--> 105\u001b[0;31m             \u001b[0;32mprint\u001b[0m \u001b[0;34m\"You grab the neutron bomb and run as fast as you can to the\"\u001b[0m\u001b[0;34m\u001b[0m\u001b[0m\n\u001b[0m\u001b[1;32m    106\u001b[0m             \u001b[0;32mprint\u001b[0m \u001b[0;34m\"bridge where you must place it in the right spot.\"\u001b[0m\u001b[0;34m\u001b[0m\u001b[0m\n\u001b[1;32m    107\u001b[0m             \u001b[0;32mreturn\u001b[0m \u001b[0;34m'the_bridge'\u001b[0m\u001b[0;34m\u001b[0m\u001b[0m\n",
      "\u001b[0;32m/Users/gcfang/anaconda/lib/python2.7/site-packages/ipykernel/kernelbase.pyc\u001b[0m in \u001b[0;36mraw_input\u001b[0;34m(self, prompt)\u001b[0m\n\u001b[1;32m    675\u001b[0m             \u001b[0mself\u001b[0m\u001b[0;34m.\u001b[0m\u001b[0m_parent_ident\u001b[0m\u001b[0;34m,\u001b[0m\u001b[0;34m\u001b[0m\u001b[0m\n\u001b[1;32m    676\u001b[0m             \u001b[0mself\u001b[0m\u001b[0;34m.\u001b[0m\u001b[0m_parent_header\u001b[0m\u001b[0;34m,\u001b[0m\u001b[0;34m\u001b[0m\u001b[0m\n\u001b[0;32m--> 677\u001b[0;31m             \u001b[0mpassword\u001b[0m\u001b[0;34m=\u001b[0m\u001b[0mFalse\u001b[0m\u001b[0;34m,\u001b[0m\u001b[0;34m\u001b[0m\u001b[0m\n\u001b[0m\u001b[1;32m    678\u001b[0m         )\n\u001b[1;32m    679\u001b[0m \u001b[0;34m\u001b[0m\u001b[0m\n",
      "\u001b[0;32m/Users/gcfang/anaconda/lib/python2.7/site-packages/ipykernel/kernelbase.pyc\u001b[0m in \u001b[0;36m_input_request\u001b[0;34m(self, prompt, ident, parent, password)\u001b[0m\n\u001b[1;32m    705\u001b[0m             \u001b[0;32mexcept\u001b[0m \u001b[0mKeyboardInterrupt\u001b[0m\u001b[0;34m:\u001b[0m\u001b[0;34m\u001b[0m\u001b[0m\n\u001b[1;32m    706\u001b[0m                 \u001b[0;31m# re-raise KeyboardInterrupt, to truncate traceback\u001b[0m\u001b[0;34m\u001b[0m\u001b[0;34m\u001b[0m\u001b[0m\n\u001b[0;32m--> 707\u001b[0;31m                 \u001b[0;32mraise\u001b[0m \u001b[0mKeyboardInterrupt\u001b[0m\u001b[0;34m\u001b[0m\u001b[0m\n\u001b[0m\u001b[1;32m    708\u001b[0m             \u001b[0;32melse\u001b[0m\u001b[0;34m:\u001b[0m\u001b[0;34m\u001b[0m\u001b[0m\n\u001b[1;32m    709\u001b[0m                 \u001b[0;32mbreak\u001b[0m\u001b[0;34m\u001b[0m\u001b[0m\n",
      "\u001b[0;31mKeyboardInterrupt\u001b[0m: "
     ]
    }
   ],
   "source": [
    "%run EX43_OOP_Spaceship_Ex/ex43.py"
   ]
  },
  {
   "cell_type": "markdown",
   "metadata": {},
   "source": [
    "## ----Ex 44---- "
   ]
  },
  {
   "cell_type": "markdown",
   "metadata": {},
   "source": [
    "### Implicit Inheritance"
   ]
  },
  {
   "cell_type": "code",
   "execution_count": 32,
   "metadata": {
    "collapsed": true
   },
   "outputs": [],
   "source": [
    "class Parent(object):\n",
    "\n",
    "    def implicit(self):\n",
    "        print \"PARENT implicit()\"\n",
    "    def dummy_function(a,b):\n",
    "        return a+b\n",
    "\n",
    "class Child(Parent):\n",
    "    pass"
   ]
  },
  {
   "cell_type": "code",
   "execution_count": 33,
   "metadata": {
    "collapsed": false
   },
   "outputs": [
    {
     "name": "stdout",
     "output_type": "stream",
     "text": [
      "PARENT implicit()\n",
      "PARENT implicit()\n"
     ]
    }
   ],
   "source": [
    "dad = Parent()\n",
    "son = Child()\n",
    "\n",
    "dad.implicit()\n",
    "son.implicit()"
   ]
  },
  {
   "cell_type": "code",
   "execution_count": null,
   "metadata": {
    "collapsed": true
   },
   "outputs": [],
   "source": []
  }
 ],
 "metadata": {
  "kernelspec": {
   "display_name": "Python 2",
   "language": "python",
   "name": "python2"
  },
  "language_info": {
   "codemirror_mode": {
    "name": "ipython",
    "version": 2
   },
   "file_extension": ".py",
   "mimetype": "text/x-python",
   "name": "python",
   "nbconvert_exporter": "python",
   "pygments_lexer": "ipython2",
   "version": "2.7.11"
  }
 },
 "nbformat": 4,
 "nbformat_minor": 0
}
